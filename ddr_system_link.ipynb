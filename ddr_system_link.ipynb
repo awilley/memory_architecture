{
 "cells": [
  {
   "attachments": {},
   "cell_type": "markdown",
   "metadata": {},
   "source": [
    "# DDR Memory DIMM Architectures: Tradeoffs and Constraints\n",
    "\n",
    "**Introduction:**\n",
    "\n",
    "DDR memory DIMMs are a critical component of modern computer systems, providing the necessary memory capacity and bandwidth to support increasingly complex workloads. However, as memory capacity requirements continue to grow, it becomes increasingly important to understand the tradeoffs involved in different DDR memory DIMM architectures, such as UDIMM and LRDIMM, as well as the constraints imposed by DRAM and processor design. \n",
    "\n",
    "In this document, we will explore these tradeoffs and constraints, with the ultimate goal of answering the question of what the limiting factor is for scaling memory capacity."
   ]
  },
  {
   "cell_type": "code",
   "execution_count": null,
   "metadata": {},
   "outputs": [],
   "source": []
  }
 ],
 "metadata": {
  "kernelspec": {
   "display_name": "base",
   "language": "python",
   "name": "python3"
  },
  "language_info": {
   "codemirror_mode": {
    "name": "ipython",
    "version": 3
   },
   "file_extension": ".py",
   "mimetype": "text/x-python",
   "name": "python",
   "nbconvert_exporter": "python",
   "pygments_lexer": "ipython3",
   "version": "3.8.12"
  },
  "orig_nbformat": 4
 },
 "nbformat": 4,
 "nbformat_minor": 2
}
